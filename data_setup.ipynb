{
 "cells": [
  {
   "cell_type": "code",
   "execution_count": 3,
   "id": "75d18639",
   "metadata": {},
   "outputs": [],
   "source": [
    "import pandas as pd\n",
    "import numpy as np"
   ]
  },
  {
   "cell_type": "code",
   "execution_count": 5,
   "id": "8b443670",
   "metadata": {},
   "outputs": [],
   "source": [
    "data=pd.read_csv(\"employee_data.csv\")"
   ]
  },
  {
   "cell_type": "code",
   "execution_count": 6,
   "id": "99d6552b",
   "metadata": {},
   "outputs": [
    {
     "data": {
      "text/html": [
       "<div>\n",
       "<style scoped>\n",
       "    .dataframe tbody tr th:only-of-type {\n",
       "        vertical-align: middle;\n",
       "    }\n",
       "\n",
       "    .dataframe tbody tr th {\n",
       "        vertical-align: top;\n",
       "    }\n",
       "\n",
       "    .dataframe thead th {\n",
       "        text-align: right;\n",
       "    }\n",
       "</style>\n",
       "<table border=\"1\" class=\"dataframe\">\n",
       "  <thead>\n",
       "    <tr style=\"text-align: right;\">\n",
       "      <th></th>\n",
       "      <th>EmpID</th>\n",
       "      <th>FirstName</th>\n",
       "      <th>LastName</th>\n",
       "      <th>StartDate</th>\n",
       "      <th>ExitDate</th>\n",
       "      <th>Title</th>\n",
       "      <th>Supervisor</th>\n",
       "      <th>ADEmail</th>\n",
       "      <th>BusinessUnit</th>\n",
       "      <th>EmployeeStatus</th>\n",
       "      <th>...</th>\n",
       "      <th>Division</th>\n",
       "      <th>DOB</th>\n",
       "      <th>State</th>\n",
       "      <th>JobFunctionDescription</th>\n",
       "      <th>GenderCode</th>\n",
       "      <th>LocationCode</th>\n",
       "      <th>RaceDesc</th>\n",
       "      <th>MaritalDesc</th>\n",
       "      <th>Performance Score</th>\n",
       "      <th>Current Employee Rating</th>\n",
       "    </tr>\n",
       "  </thead>\n",
       "  <tbody>\n",
       "    <tr>\n",
       "      <th>0</th>\n",
       "      <td>3427</td>\n",
       "      <td>Uriah</td>\n",
       "      <td>Bridges</td>\n",
       "      <td>20-Sep-19</td>\n",
       "      <td>NaN</td>\n",
       "      <td>Production Technician I</td>\n",
       "      <td>Peter Oneill</td>\n",
       "      <td>uriah.bridges@bilearner.com</td>\n",
       "      <td>CCDR</td>\n",
       "      <td>Active</td>\n",
       "      <td>...</td>\n",
       "      <td>Finance &amp; Accounting</td>\n",
       "      <td>07-10-1969</td>\n",
       "      <td>MA</td>\n",
       "      <td>Accounting</td>\n",
       "      <td>Female</td>\n",
       "      <td>34904</td>\n",
       "      <td>White</td>\n",
       "      <td>Widowed</td>\n",
       "      <td>Fully Meets</td>\n",
       "      <td>4</td>\n",
       "    </tr>\n",
       "    <tr>\n",
       "      <th>1</th>\n",
       "      <td>3428</td>\n",
       "      <td>Paula</td>\n",
       "      <td>Small</td>\n",
       "      <td>11-Feb-23</td>\n",
       "      <td>NaN</td>\n",
       "      <td>Production Technician I</td>\n",
       "      <td>Renee Mccormick</td>\n",
       "      <td>paula.small@bilearner.com</td>\n",
       "      <td>EW</td>\n",
       "      <td>Active</td>\n",
       "      <td>...</td>\n",
       "      <td>Aerial</td>\n",
       "      <td>30-08-1965</td>\n",
       "      <td>MA</td>\n",
       "      <td>Labor</td>\n",
       "      <td>Male</td>\n",
       "      <td>6593</td>\n",
       "      <td>Hispanic</td>\n",
       "      <td>Widowed</td>\n",
       "      <td>Fully Meets</td>\n",
       "      <td>3</td>\n",
       "    </tr>\n",
       "    <tr>\n",
       "      <th>2</th>\n",
       "      <td>3429</td>\n",
       "      <td>Edward</td>\n",
       "      <td>Buck</td>\n",
       "      <td>10-Dec-18</td>\n",
       "      <td>NaN</td>\n",
       "      <td>Area Sales Manager</td>\n",
       "      <td>Crystal Walker</td>\n",
       "      <td>edward.buck@bilearner.com</td>\n",
       "      <td>PL</td>\n",
       "      <td>Active</td>\n",
       "      <td>...</td>\n",
       "      <td>General - Sga</td>\n",
       "      <td>06-10-1991</td>\n",
       "      <td>MA</td>\n",
       "      <td>Assistant</td>\n",
       "      <td>Male</td>\n",
       "      <td>2330</td>\n",
       "      <td>Hispanic</td>\n",
       "      <td>Widowed</td>\n",
       "      <td>Fully Meets</td>\n",
       "      <td>4</td>\n",
       "    </tr>\n",
       "    <tr>\n",
       "      <th>3</th>\n",
       "      <td>3430</td>\n",
       "      <td>Michael</td>\n",
       "      <td>Riordan</td>\n",
       "      <td>21-Jun-21</td>\n",
       "      <td>NaN</td>\n",
       "      <td>Area Sales Manager</td>\n",
       "      <td>Rebekah Wright</td>\n",
       "      <td>michael.riordan@bilearner.com</td>\n",
       "      <td>CCDR</td>\n",
       "      <td>Active</td>\n",
       "      <td>...</td>\n",
       "      <td>Finance &amp; Accounting</td>\n",
       "      <td>04-04-1998</td>\n",
       "      <td>ND</td>\n",
       "      <td>Clerk</td>\n",
       "      <td>Male</td>\n",
       "      <td>58782</td>\n",
       "      <td>Other</td>\n",
       "      <td>Single</td>\n",
       "      <td>Fully Meets</td>\n",
       "      <td>2</td>\n",
       "    </tr>\n",
       "    <tr>\n",
       "      <th>4</th>\n",
       "      <td>3431</td>\n",
       "      <td>Jasmine</td>\n",
       "      <td>Onque</td>\n",
       "      <td>29-Jun-19</td>\n",
       "      <td>NaN</td>\n",
       "      <td>Area Sales Manager</td>\n",
       "      <td>Jason Kim</td>\n",
       "      <td>jasmine.onque@bilearner.com</td>\n",
       "      <td>TNS</td>\n",
       "      <td>Active</td>\n",
       "      <td>...</td>\n",
       "      <td>General - Con</td>\n",
       "      <td>29-08-1969</td>\n",
       "      <td>FL</td>\n",
       "      <td>Laborer</td>\n",
       "      <td>Female</td>\n",
       "      <td>33174</td>\n",
       "      <td>Other</td>\n",
       "      <td>Married</td>\n",
       "      <td>Fully Meets</td>\n",
       "      <td>3</td>\n",
       "    </tr>\n",
       "  </tbody>\n",
       "</table>\n",
       "<p>5 rows × 26 columns</p>\n",
       "</div>"
      ],
      "text/plain": [
       "   EmpID FirstName LastName  StartDate ExitDate                    Title  \\\n",
       "0   3427     Uriah  Bridges  20-Sep-19      NaN  Production Technician I   \n",
       "1   3428     Paula    Small  11-Feb-23      NaN  Production Technician I   \n",
       "2   3429    Edward     Buck  10-Dec-18      NaN       Area Sales Manager   \n",
       "3   3430   Michael  Riordan  21-Jun-21      NaN       Area Sales Manager   \n",
       "4   3431   Jasmine    Onque  29-Jun-19      NaN       Area Sales Manager   \n",
       "\n",
       "        Supervisor                        ADEmail BusinessUnit EmployeeStatus  \\\n",
       "0     Peter Oneill    uriah.bridges@bilearner.com         CCDR         Active   \n",
       "1  Renee Mccormick      paula.small@bilearner.com           EW         Active   \n",
       "2   Crystal Walker      edward.buck@bilearner.com           PL         Active   \n",
       "3   Rebekah Wright  michael.riordan@bilearner.com         CCDR         Active   \n",
       "4        Jason Kim    jasmine.onque@bilearner.com          TNS         Active   \n",
       "\n",
       "   ...              Division         DOB State JobFunctionDescription  \\\n",
       "0  ...  Finance & Accounting  07-10-1969    MA             Accounting   \n",
       "1  ...                Aerial  30-08-1965    MA                  Labor   \n",
       "2  ...         General - Sga  06-10-1991    MA              Assistant   \n",
       "3  ...  Finance & Accounting  04-04-1998    ND                  Clerk   \n",
       "4  ...         General - Con  29-08-1969    FL                Laborer   \n",
       "\n",
       "  GenderCode LocationCode  RaceDesc MaritalDesc Performance Score  \\\n",
       "0     Female        34904     White     Widowed       Fully Meets   \n",
       "1       Male         6593  Hispanic     Widowed       Fully Meets   \n",
       "2       Male         2330  Hispanic     Widowed       Fully Meets   \n",
       "3       Male        58782     Other      Single       Fully Meets   \n",
       "4     Female        33174     Other     Married       Fully Meets   \n",
       "\n",
       "  Current Employee Rating  \n",
       "0                       4  \n",
       "1                       3  \n",
       "2                       4  \n",
       "3                       2  \n",
       "4                       3  \n",
       "\n",
       "[5 rows x 26 columns]"
      ]
     },
     "execution_count": 6,
     "metadata": {},
     "output_type": "execute_result"
    }
   ],
   "source": [
    "data.head()"
   ]
  },
  {
   "cell_type": "code",
   "execution_count": 9,
   "id": "27165101",
   "metadata": {},
   "outputs": [
    {
     "name": "stdout",
     "output_type": "stream",
     "text": [
      "Data has been successfully written to the SQLite database.\n",
      "   EmpID FirstName LastName  StartDate ExitDate                    Title  \\\n",
      "0   3427     Uriah  Bridges  20-Sep-19     None  Production Technician I   \n",
      "1   3428     Paula    Small  11-Feb-23     None  Production Technician I   \n",
      "2   3429    Edward     Buck  10-Dec-18     None       Area Sales Manager   \n",
      "3   3430   Michael  Riordan  21-Jun-21     None       Area Sales Manager   \n",
      "4   3431   Jasmine    Onque  29-Jun-19     None       Area Sales Manager   \n",
      "\n",
      "        Supervisor                        ADEmail BusinessUnit EmployeeStatus  \\\n",
      "0     Peter Oneill    uriah.bridges@bilearner.com         CCDR         Active   \n",
      "1  Renee Mccormick      paula.small@bilearner.com           EW         Active   \n",
      "2   Crystal Walker      edward.buck@bilearner.com           PL         Active   \n",
      "3   Rebekah Wright  michael.riordan@bilearner.com         CCDR         Active   \n",
      "4        Jason Kim    jasmine.onque@bilearner.com          TNS         Active   \n",
      "\n",
      "   ...              Division         DOB State JobFunctionDescription  \\\n",
      "0  ...  Finance & Accounting  07-10-1969    MA             Accounting   \n",
      "1  ...                Aerial  30-08-1965    MA                  Labor   \n",
      "2  ...         General - Sga  06-10-1991    MA              Assistant   \n",
      "3  ...  Finance & Accounting  04-04-1998    ND                  Clerk   \n",
      "4  ...         General - Con  29-08-1969    FL                Laborer   \n",
      "\n",
      "  GenderCode LocationCode  RaceDesc MaritalDesc Performance Score  \\\n",
      "0     Female        34904     White     Widowed       Fully Meets   \n",
      "1       Male         6593  Hispanic     Widowed       Fully Meets   \n",
      "2       Male         2330  Hispanic     Widowed       Fully Meets   \n",
      "3       Male        58782     Other      Single       Fully Meets   \n",
      "4     Female        33174     Other     Married       Fully Meets   \n",
      "\n",
      "  Current Employee Rating  \n",
      "0                       4  \n",
      "1                       3  \n",
      "2                       4  \n",
      "3                       2  \n",
      "4                       3  \n",
      "\n",
      "[5 rows x 26 columns]\n"
     ]
    }
   ],
   "source": [
    "import sqlite3\n",
    "conn = sqlite3.connect(\"employee_data.db\")\n",
    "data.to_sql(\"employees\", conn, if_exists=\"replace\", index=False)\n",
    "print(\"Data has been successfully written to the SQLite database.\")\n",
    "test_query = pd.read_sql(\"SELECT * FROM employees LIMIT 5;\",conn)\n",
    "print(test_query)\n",
    "conn.close()"
   ]
  },
  {
   "cell_type": "code",
   "execution_count": 10,
   "id": "2cbd1d26",
   "metadata": {},
   "outputs": [
    {
     "name": "stdout",
     "output_type": "stream",
     "text": [
      "[]\n"
     ]
    }
   ],
   "source": [
    "\n",
    "conn = sqlite3.connect(\"employees.db\")\n",
    "cursor = conn.cursor()\n",
    "\n",
    "# Get column names from the table\n",
    "cursor.execute(\"PRAGMA table_info(employees);\")\n",
    "columns = [col[1] for col in cursor.fetchall()]\n",
    "\n",
    "print(columns)\n",
    "\n",
    "conn.close()"
   ]
  },
  {
   "cell_type": "code",
   "execution_count": 17,
   "id": "e84c24ae",
   "metadata": {},
   "outputs": [
    {
     "name": "stdout",
     "output_type": "stream",
     "text": [
      "CSV data written to SQLite database as 'employees' table.\n"
     ]
    }
   ],
   "source": [
    "conn = sqlite3.connect(\"employees.db\")\n",
    "data.to_sql(\"employees\", conn, if_exists=\"replace\", index=False)\n",
    "print(\"CSV data written to SQLite database as 'employees' table.\")"
   ]
  },
  {
   "cell_type": "code",
   "execution_count": 18,
   "id": "d85b52b9",
   "metadata": {},
   "outputs": [
    {
     "name": "stdout",
     "output_type": "stream",
     "text": [
      "Tables in DB: [('employees',)]\n"
     ]
    }
   ],
   "source": [
    "cursor = conn.cursor()\n",
    "cursor.execute(\"SELECT name FROM sqlite_master WHERE type='table';\")\n",
    "print(\"Tables in DB:\", cursor.fetchall())"
   ]
  },
  {
   "cell_type": "code",
   "execution_count": 19,
   "id": "f68e3fd6",
   "metadata": {},
   "outputs": [
    {
     "name": "stdout",
     "output_type": "stream",
     "text": [
      "\n",
      "First 5 rows from DB:\n",
      "   EmpID FirstName LastName  StartDate ExitDate                    Title  \\\n",
      "0   3427     Uriah  Bridges  20-Sep-19     None  Production Technician I   \n",
      "1   3428     Paula    Small  11-Feb-23     None  Production Technician I   \n",
      "2   3429    Edward     Buck  10-Dec-18     None       Area Sales Manager   \n",
      "3   3430   Michael  Riordan  21-Jun-21     None       Area Sales Manager   \n",
      "4   3431   Jasmine    Onque  29-Jun-19     None       Area Sales Manager   \n",
      "\n",
      "        Supervisor                        ADEmail BusinessUnit EmployeeStatus  \\\n",
      "0     Peter Oneill    uriah.bridges@bilearner.com         CCDR         Active   \n",
      "1  Renee Mccormick      paula.small@bilearner.com           EW         Active   \n",
      "2   Crystal Walker      edward.buck@bilearner.com           PL         Active   \n",
      "3   Rebekah Wright  michael.riordan@bilearner.com         CCDR         Active   \n",
      "4        Jason Kim    jasmine.onque@bilearner.com          TNS         Active   \n",
      "\n",
      "   ...              Division         DOB State JobFunctionDescription  \\\n",
      "0  ...  Finance & Accounting  07-10-1969    MA             Accounting   \n",
      "1  ...                Aerial  30-08-1965    MA                  Labor   \n",
      "2  ...         General - Sga  06-10-1991    MA              Assistant   \n",
      "3  ...  Finance & Accounting  04-04-1998    ND                  Clerk   \n",
      "4  ...         General - Con  29-08-1969    FL                Laborer   \n",
      "\n",
      "  GenderCode LocationCode  RaceDesc MaritalDesc Performance Score  \\\n",
      "0     Female        34904     White     Widowed       Fully Meets   \n",
      "1       Male         6593  Hispanic     Widowed       Fully Meets   \n",
      "2       Male         2330  Hispanic     Widowed       Fully Meets   \n",
      "3       Male        58782     Other      Single       Fully Meets   \n",
      "4     Female        33174     Other     Married       Fully Meets   \n",
      "\n",
      "  Current Employee Rating  \n",
      "0                       4  \n",
      "1                       3  \n",
      "2                       4  \n",
      "3                       2  \n",
      "4                       3  \n",
      "\n",
      "[5 rows x 26 columns]\n"
     ]
    }
   ],
   "source": [
    "test_df = pd.read_sql(\"SELECT * FROM employees LIMIT 5;\", conn)\n",
    "print(\"\\nFirst 5 rows from DB:\")\n",
    "print(test_df)"
   ]
  },
  {
   "cell_type": "code",
   "execution_count": 20,
   "id": "80abe0b1",
   "metadata": {},
   "outputs": [
    {
     "name": "stdout",
     "output_type": "stream",
     "text": [
      "\n",
      "Column Names: ['EmpID', 'FirstName', 'LastName', 'StartDate', 'ExitDate', 'Title', 'Supervisor', 'ADEmail', 'BusinessUnit', 'EmployeeStatus', 'EmployeeType', 'PayZone', 'EmployeeClassificationType', 'TerminationType', 'TerminationDescription', 'DepartmentType', 'Division', 'DOB', 'State', 'JobFunctionDescription', 'GenderCode', 'LocationCode', 'RaceDesc', 'MaritalDesc', 'Performance Score', 'Current Employee Rating']\n"
     ]
    }
   ],
   "source": [
    "# 5. Print the column names\n",
    "print(\"\\nColumn Names:\", test_df.columns.tolist())\n",
    "\n",
    "conn.close()\n"
   ]
  },
  {
   "cell_type": "code",
   "execution_count": 22,
   "id": "4f3f5919",
   "metadata": {},
   "outputs": [
    {
     "name": "stdout",
     "output_type": "stream",
     "text": [
      "CSV data written to SQLite database as 'employees' table.\n",
      "Tables in DB: [('employees',)]\n"
     ]
    }
   ],
   "source": [
    "conn = sqlite3.connect(\"employees.db\")\n",
    "data.to_sql(\"employees\", conn, if_exists=\"replace\", index=False)\n",
    "print(\"CSV data written to SQLite database as 'employees' table.\")\n",
    "cursor = conn.cursor()\n",
    "cursor.execute(\"SELECT name FROM sqlite_master WHERE type='table';\")\n",
    "print(\"Tables in DB:\", cursor.fetchall())"
   ]
  },
  {
   "cell_type": "code",
   "execution_count": 23,
   "id": "0637608d",
   "metadata": {},
   "outputs": [],
   "source": [
    "conn.close()"
   ]
  },
  {
   "cell_type": "code",
   "execution_count": 24,
   "id": "66e9c5e1",
   "metadata": {},
   "outputs": [
    {
     "name": "stdout",
     "output_type": "stream",
     "text": [
      "['EmpID', 'FirstName', 'LastName', 'StartDate', 'ExitDate', 'Title', 'Supervisor', 'ADEmail', 'BusinessUnit', 'EmployeeStatus', 'EmployeeType', 'PayZone', 'EmployeeClassificationType', 'TerminationType', 'TerminationDescription', 'DepartmentType', 'Division', 'DOB', 'State', 'JobFunctionDescription', 'GenderCode', 'LocationCode', 'RaceDesc', 'MaritalDesc', 'Performance Score', 'Current Employee Rating']\n"
     ]
    }
   ],
   "source": [
    "\n",
    "conn = sqlite3.connect(\"employees.db\")\n",
    "cursor = conn.cursor()\n",
    "\n",
    "# Get column names from the table\n",
    "cursor.execute(\"PRAGMA table_info(employees);\")\n",
    "columns = [col[1] for col in cursor.fetchall()]\n",
    "\n",
    "print(columns)\n",
    "\n"
   ]
  },
  {
   "cell_type": "code",
   "execution_count": null,
   "id": "fb0292e7",
   "metadata": {},
   "outputs": [],
   "source": []
  }
 ],
 "metadata": {
  "kernelspec": {
   "display_name": "venv",
   "language": "python",
   "name": "python3"
  },
  "language_info": {
   "codemirror_mode": {
    "name": "ipython",
    "version": 3
   },
   "file_extension": ".py",
   "mimetype": "text/x-python",
   "name": "python",
   "nbconvert_exporter": "python",
   "pygments_lexer": "ipython3",
   "version": "3.12.4"
  }
 },
 "nbformat": 4,
 "nbformat_minor": 5
}
